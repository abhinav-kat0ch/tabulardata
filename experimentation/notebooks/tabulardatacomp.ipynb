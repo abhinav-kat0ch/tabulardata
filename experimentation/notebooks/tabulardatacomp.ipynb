{
 "cells": [
  {
   "cell_type": "code",
   "execution_count": 1,
   "metadata": {},
   "outputs": [],
   "source": [
    "import pandas as pd\n",
    "import os\n",
    "from glob import glob\n",
    "import sys\n",
    "import numpy as np\n",
    "import xgboost as xgb\n",
    "import lightgbm as lgb\n",
    "from scipy import stats\n",
    "import catboost\n",
    "from sklearn.model_selection import RandomizedSearchCV"
   ]
  },
  {
   "cell_type": "code",
   "execution_count": 2,
   "metadata": {},
   "outputs": [],
   "source": [
    "os.chdir(\"../../models\")\n",
    "path = os.getcwd()"
   ]
  },
  {
   "cell_type": "code",
   "execution_count": 5,
   "metadata": {},
   "outputs": [],
   "source": [
    "df_xgb_sarcos = pd.read_csv(\"regression_xgboost_sarcos_inv_insample.csv\")\n",
    "df_lgb_sarcos = pd.read_csv(\"regression_lightgbm_sarcos_inv_insample.csv\")\n",
    "df_catboost_sarcos = pd.read_csv(\"regression_catboost_sarcos_inv_insample.csv\")"
   ]
  },
  {
   "cell_type": "code",
   "execution_count": 6,
   "metadata": {},
   "outputs": [],
   "source": [
    "from sklearn.metrics import r2_score"
   ]
  },
  {
   "cell_type": "code",
   "execution_count": 7,
   "metadata": {},
   "outputs": [
    {
     "data": {
      "text/plain": [
       "0.9958575654740905"
      ]
     },
     "execution_count": 7,
     "metadata": {},
     "output_type": "execute_result"
    }
   ],
   "source": [
    "r2_score(df_xgb_sarcos['prediction'], df_xgb_sarcos['target'])"
   ]
  },
  {
   "cell_type": "code",
   "execution_count": 8,
   "metadata": {},
   "outputs": [
    {
     "data": {
      "text/plain": [
       "0.9952141421064897"
      ]
     },
     "execution_count": 8,
     "metadata": {},
     "output_type": "execute_result"
    }
   ],
   "source": [
    "r2_score(df_lgb_sarcos['prediction'], df_lgb_sarcos['target'])"
   ]
  },
  {
   "cell_type": "code",
   "execution_count": 9,
   "metadata": {},
   "outputs": [
    {
     "data": {
      "text/plain": [
       "0.9965077417435177"
      ]
     },
     "execution_count": 9,
     "metadata": {},
     "output_type": "execute_result"
    }
   ],
   "source": [
    "r2_score(df_catboost_sarcos['prediction'], df_catboost_sarcos['target'])"
   ]
  },
  {
   "cell_type": "code",
   "execution_count": 17,
   "metadata": {},
   "outputs": [],
   "source": [
    "df_xgb_sarcos_o = pd.read_csv(\"regression_xgboost_sarcos_inv_outofsample.csv\")\n",
    "df_lgb_sarcos_o = pd.read_csv(\"regression_lightgbm_sarcos_inv_outofsample.csv\")\n",
    "df_catboost_sarcos_o = pd.read_csv(\"regression_catboost_sarcos_inv_outofsample.csv\")"
   ]
  },
  {
   "cell_type": "code",
   "execution_count": 13,
   "metadata": {},
   "outputs": [
    {
     "data": {
      "text/plain": [
       "0.9960661374812426"
      ]
     },
     "execution_count": 13,
     "metadata": {},
     "output_type": "execute_result"
    }
   ],
   "source": [
    "r2_score(df_xgb_sarcos_o['predictions'], df_xgb_sarcos_o['actuals'])"
   ]
  },
  {
   "cell_type": "code",
   "execution_count": 15,
   "metadata": {},
   "outputs": [
    {
     "data": {
      "text/plain": [
       "0.995364787257144"
      ]
     },
     "execution_count": 15,
     "metadata": {},
     "output_type": "execute_result"
    }
   ],
   "source": [
    "r2_score(df_lgb_sarcos_o['predictions'], df_lgb_sarcos_o['actuals'])"
   ]
  },
  {
   "cell_type": "code",
   "execution_count": 18,
   "metadata": {},
   "outputs": [
    {
     "data": {
      "text/plain": [
       "0.9965975675295015"
      ]
     },
     "execution_count": 18,
     "metadata": {},
     "output_type": "execute_result"
    }
   ],
   "source": [
    "r2_score(df_catboost_sarcos_o['predictions'], df_catboost_sarcos_o['actuals'])"
   ]
  },
  {
   "cell_type": "code",
   "execution_count": 27,
   "metadata": {},
   "outputs": [],
   "source": [
    "results_dict = {}\n",
    "\n",
    "results_dict['insample'] = {'xgboost': r2_score(df_xgb_sarcos['prediction'], df_xgb_sarcos['target']),\n",
    "                   'lightgbm': r2_score(df_lgb_sarcos['prediction'], df_lgb_sarcos['target']),\n",
    "                   'catboost': r2_score(df_catboost_sarcos['prediction'], df_catboost_sarcos['target']),\n",
    "                   'fastaitabular': 0.0,\n",
    "                   'tabnet': 0.0}\n",
    "\n",
    "results_dict['outofsample'] = {'xgboost': r2_score(df_xgb_sarcos_o['predictions'], df_xgb_sarcos_o['actuals']),\n",
    "                      'lightgbm': r2_score(df_lgb_sarcos_o['predictions'], df_lgb_sarcos_o['actuals']),\n",
    "                      'catboost': r2_score(df_catboost_sarcos_o['predictions'], df_catboost_sarcos_o['actuals']),\n",
    "                      'fastaitabular': 0.0,\n",
    "                      'tabnet': 0.0}"
   ]
  },
  {
   "cell_type": "code",
   "execution_count": 31,
   "metadata": {},
   "outputs": [
    {
     "data": {
      "text/html": [
       "<div>\n",
       "<style scoped>\n",
       "    .dataframe tbody tr th:only-of-type {\n",
       "        vertical-align: middle;\n",
       "    }\n",
       "\n",
       "    .dataframe tbody tr th {\n",
       "        vertical-align: top;\n",
       "    }\n",
       "\n",
       "    .dataframe thead th {\n",
       "        text-align: right;\n",
       "    }\n",
       "</style>\n",
       "<table border=\"1\" class=\"dataframe\">\n",
       "  <thead>\n",
       "    <tr style=\"text-align: right;\">\n",
       "      <th></th>\n",
       "      <th>insample</th>\n",
       "      <th>outofsample</th>\n",
       "    </tr>\n",
       "  </thead>\n",
       "  <tbody>\n",
       "    <tr>\n",
       "      <th>catboost</th>\n",
       "      <td>0.997</td>\n",
       "      <td>0.997</td>\n",
       "    </tr>\n",
       "    <tr>\n",
       "      <th>fastaitabular</th>\n",
       "      <td>0.000</td>\n",
       "      <td>0.000</td>\n",
       "    </tr>\n",
       "    <tr>\n",
       "      <th>lightgbm</th>\n",
       "      <td>0.995</td>\n",
       "      <td>0.995</td>\n",
       "    </tr>\n",
       "    <tr>\n",
       "      <th>tabnet</th>\n",
       "      <td>0.000</td>\n",
       "      <td>0.000</td>\n",
       "    </tr>\n",
       "    <tr>\n",
       "      <th>xgboost</th>\n",
       "      <td>0.996</td>\n",
       "      <td>0.996</td>\n",
       "    </tr>\n",
       "  </tbody>\n",
       "</table>\n",
       "</div>"
      ],
      "text/plain": [
       "               insample  outofsample\n",
       "catboost          0.997        0.997\n",
       "fastaitabular     0.000        0.000\n",
       "lightgbm          0.995        0.995\n",
       "tabnet            0.000        0.000\n",
       "xgboost           0.996        0.996"
      ]
     },
     "execution_count": 31,
     "metadata": {},
     "output_type": "execute_result"
    }
   ],
   "source": [
    "np.round(pd.DataFrame(results_dict), 3)"
   ]
  },
  {
   "cell_type": "code",
   "execution_count": 49,
   "metadata": {},
   "outputs": [],
   "source": [
    "from sklearn.metrics import roc_auc_score, accuracy_score"
   ]
  },
  {
   "cell_type": "code",
   "execution_count": 37,
   "metadata": {},
   "outputs": [],
   "source": [
    "df_xgb_c = pd.read_csv(\"classification_xgboost_amazon_insample.csv\")\n",
    "df_lgb_c = pd.read_csv(\"classification_lightgbm_amazon_insample.csv\")\n",
    "df_catboost_c = pd.read_csv(\"classification_catboost_amazon_insample.csv\")"
   ]
  },
  {
   "cell_type": "code",
   "execution_count": 44,
   "metadata": {},
   "outputs": [],
   "source": [
    "results_dict_c = {}\n",
    "\n",
    "results_dict_c['insample'] = {'xgboost': roc_auc_score(df_xgb_c['target'], df_xgb_c['prediction']),\n",
    "                   'lightgbm': roc_auc_score(df_lgb_c['target'], df_lgb_c['prediction']),\n",
    "                   'catboost': roc_auc_score(df_catboost_c['target'], df_catboost_c['prediction']),\n",
    "                   'fastaitabular': 0.0,\n",
    "                   'tabnet': 0.0}"
   ]
  },
  {
   "cell_type": "code",
   "execution_count": 46,
   "metadata": {},
   "outputs": [
    {
     "data": {
      "text/html": [
       "<div>\n",
       "<style scoped>\n",
       "    .dataframe tbody tr th:only-of-type {\n",
       "        vertical-align: middle;\n",
       "    }\n",
       "\n",
       "    .dataframe tbody tr th {\n",
       "        vertical-align: top;\n",
       "    }\n",
       "\n",
       "    .dataframe thead th {\n",
       "        text-align: right;\n",
       "    }\n",
       "</style>\n",
       "<table border=\"1\" class=\"dataframe\">\n",
       "  <thead>\n",
       "    <tr style=\"text-align: right;\">\n",
       "      <th></th>\n",
       "      <th>insample</th>\n",
       "    </tr>\n",
       "  </thead>\n",
       "  <tbody>\n",
       "    <tr>\n",
       "      <th>catboost</th>\n",
       "      <td>0.832661</td>\n",
       "    </tr>\n",
       "    <tr>\n",
       "      <th>fastaitabular</th>\n",
       "      <td>0.000000</td>\n",
       "    </tr>\n",
       "    <tr>\n",
       "      <th>lightgbm</th>\n",
       "      <td>0.849555</td>\n",
       "    </tr>\n",
       "    <tr>\n",
       "      <th>tabnet</th>\n",
       "      <td>0.000000</td>\n",
       "    </tr>\n",
       "    <tr>\n",
       "      <th>xgboost</th>\n",
       "      <td>0.854720</td>\n",
       "    </tr>\n",
       "  </tbody>\n",
       "</table>\n",
       "</div>"
      ],
      "text/plain": [
       "               insample\n",
       "catboost       0.832661\n",
       "fastaitabular  0.000000\n",
       "lightgbm       0.849555\n",
       "tabnet         0.000000\n",
       "xgboost        0.854720"
      ]
     },
     "execution_count": 46,
     "metadata": {},
     "output_type": "execute_result"
    }
   ],
   "source": [
    "pd.DataFrame(results_dict_c)"
   ]
  },
  {
   "cell_type": "code",
   "execution_count": 47,
   "metadata": {},
   "outputs": [],
   "source": [
    "df_xgb_mc = pd.read_csv(\"multiclass_xgboost_poker_hands_insample.csv\")\n",
    "df_lgb_mc = pd.read_csv(\"multiclass_lightgbm_poker_hands_insample.csv\")\n",
    "df_catboost_mc = pd.read_csv(\"multiclass_catboost_poker_hands_insample.csv\")"
   ]
  },
  {
   "cell_type": "code",
   "execution_count": 59,
   "metadata": {},
   "outputs": [],
   "source": [
    "df_xgb_mco = pd.read_csv(\"multiclass_xgboost_poker_hands_outofsample.csv\")\n",
    "df_lgb_mco = pd.read_csv(\"multiclass_lightgbm_poker_hands_outofsample.csv\")\n",
    "df_catboost_mco = pd.read_csv(\"multiclass_catboost_poker_hands_outofsample.csv\")"
   ]
  },
  {
   "cell_type": "code",
   "execution_count": 64,
   "metadata": {},
   "outputs": [],
   "source": [
    "results_dict_mc = {}\n",
    "\n",
    "results_dict_mc['insample'] = {'xgboost': accuracy_score(df_xgb_mc['target'], df_xgb_mc['prediction']),\n",
    "                   'lightgbm': accuracy_score(df_lgb_mc['target'], df_lgb_mc['prediction']),\n",
    "                   'catboost': accuracy_score(df_catboost_mc['target'], df_catboost_mc['prediction']),\n",
    "                   'fastaitabular': 0.0,\n",
    "                   'tabnet': 0.0}\n",
    "\n",
    "results_dict_mc['outofsample'] = {'xgboost': accuracy_score(df_xgb_mco['actuals'], df_xgb_mco['predictions']),\n",
    "                   'lightgbm': accuracy_score(df_lgb_mco['actuals'], df_lgb_mco['predictions']),\n",
    "                   'catboost': accuracy_score(df_catboost_mco['actuals'], df_catboost_mco['predictions']),\n",
    "                   'fastaitabular': 0.0,\n",
    "                   'tabnet': 0.0}"
   ]
  },
  {
   "cell_type": "code",
   "execution_count": 65,
   "metadata": {},
   "outputs": [
    {
     "data": {
      "text/html": [
       "<div>\n",
       "<style scoped>\n",
       "    .dataframe tbody tr th:only-of-type {\n",
       "        vertical-align: middle;\n",
       "    }\n",
       "\n",
       "    .dataframe tbody tr th {\n",
       "        vertical-align: top;\n",
       "    }\n",
       "\n",
       "    .dataframe thead th {\n",
       "        text-align: right;\n",
       "    }\n",
       "</style>\n",
       "<table border=\"1\" class=\"dataframe\">\n",
       "  <thead>\n",
       "    <tr style=\"text-align: right;\">\n",
       "      <th></th>\n",
       "      <th>insample</th>\n",
       "      <th>outofsample</th>\n",
       "    </tr>\n",
       "  </thead>\n",
       "  <tbody>\n",
       "    <tr>\n",
       "      <th>catboost</th>\n",
       "      <td>0.690748</td>\n",
       "      <td>0.685960</td>\n",
       "    </tr>\n",
       "    <tr>\n",
       "      <th>fastaitabular</th>\n",
       "      <td>0.000000</td>\n",
       "      <td>0.000000</td>\n",
       "    </tr>\n",
       "    <tr>\n",
       "      <th>lightgbm</th>\n",
       "      <td>0.647915</td>\n",
       "      <td>0.643243</td>\n",
       "    </tr>\n",
       "    <tr>\n",
       "      <th>tabnet</th>\n",
       "      <td>0.000000</td>\n",
       "      <td>0.000000</td>\n",
       "    </tr>\n",
       "    <tr>\n",
       "      <th>xgboost</th>\n",
       "      <td>0.699315</td>\n",
       "      <td>0.687955</td>\n",
       "    </tr>\n",
       "  </tbody>\n",
       "</table>\n",
       "</div>"
      ],
      "text/plain": [
       "               insample  outofsample\n",
       "catboost       0.690748     0.685960\n",
       "fastaitabular  0.000000     0.000000\n",
       "lightgbm       0.647915     0.643243\n",
       "tabnet         0.000000     0.000000\n",
       "xgboost        0.699315     0.687955"
      ]
     },
     "execution_count": 65,
     "metadata": {},
     "output_type": "execute_result"
    }
   ],
   "source": [
    "pd.DataFrame(results_dict_mc)"
   ]
  },
  {
   "cell_type": "code",
   "execution_count": 66,
   "metadata": {},
   "outputs": [],
   "source": [
    "df_xgb_int = pd.read_csv(\"regression_xgboost_sarcos_inv_intervals.csv\")\n",
    "df_lgb_int = pd.read_csv(\"regression_lightgbm_sarcos_inv_intervals.csv\")\n",
    "df_catboost_int = pd.read_csv(\"regression_catboost_sarcos_inv_intervals.csv\")"
   ]
  },
  {
   "cell_type": "code",
   "execution_count": 72,
   "metadata": {},
   "outputs": [
    {
     "data": {
      "text/plain": [
       "(24910, 2)"
      ]
     },
     "execution_count": 72,
     "metadata": {},
     "output_type": "execute_result"
    }
   ],
   "source": [
    "df_xgb_int.shape"
   ]
  },
  {
   "cell_type": "code",
   "execution_count": 78,
   "metadata": {},
   "outputs": [
    {
     "data": {
      "text/html": [
       "<div>\n",
       "<style scoped>\n",
       "    .dataframe tbody tr th:only-of-type {\n",
       "        vertical-align: middle;\n",
       "    }\n",
       "\n",
       "    .dataframe tbody tr th {\n",
       "        vertical-align: top;\n",
       "    }\n",
       "\n",
       "    .dataframe thead th {\n",
       "        text-align: right;\n",
       "    }\n",
       "</style>\n",
       "<table border=\"1\" class=\"dataframe\">\n",
       "  <thead>\n",
       "    <tr style=\"text-align: right;\">\n",
       "      <th></th>\n",
       "      <th>predictions</th>\n",
       "      <th>actuals</th>\n",
       "    </tr>\n",
       "  </thead>\n",
       "  <tbody>\n",
       "    <tr>\n",
       "      <th>0</th>\n",
       "      <td>173.047089</td>\n",
       "      <td>164.0</td>\n",
       "    </tr>\n",
       "    <tr>\n",
       "      <th>1</th>\n",
       "      <td>3667.786865</td>\n",
       "      <td>3627.0</td>\n",
       "    </tr>\n",
       "    <tr>\n",
       "      <th>2</th>\n",
       "      <td>1688.970093</td>\n",
       "      <td>1672.0</td>\n",
       "    </tr>\n",
       "    <tr>\n",
       "      <th>3</th>\n",
       "      <td>3386.685059</td>\n",
       "      <td>3428.0</td>\n",
       "    </tr>\n",
       "    <tr>\n",
       "      <th>4</th>\n",
       "      <td>4776.338379</td>\n",
       "      <td>4878.0</td>\n",
       "    </tr>\n",
       "    <tr>\n",
       "      <th>5</th>\n",
       "      <td>1290.111816</td>\n",
       "      <td>1427.0</td>\n",
       "    </tr>\n",
       "    <tr>\n",
       "      <th>6</th>\n",
       "      <td>1718.547607</td>\n",
       "      <td>1725.0</td>\n",
       "    </tr>\n",
       "    <tr>\n",
       "      <th>7</th>\n",
       "      <td>2092.835449</td>\n",
       "      <td>2076.0</td>\n",
       "    </tr>\n",
       "    <tr>\n",
       "      <th>8</th>\n",
       "      <td>2566.543457</td>\n",
       "      <td>2584.0</td>\n",
       "    </tr>\n",
       "    <tr>\n",
       "      <th>9</th>\n",
       "      <td>2070.119629</td>\n",
       "      <td>2098.0</td>\n",
       "    </tr>\n",
       "  </tbody>\n",
       "</table>\n",
       "</div>"
      ],
      "text/plain": [
       "   predictions  actuals\n",
       "0   173.047089    164.0\n",
       "1  3667.786865   3627.0\n",
       "2  1688.970093   1672.0\n",
       "3  3386.685059   3428.0\n",
       "4  4776.338379   4878.0\n",
       "5  1290.111816   1427.0\n",
       "6  1718.547607   1725.0\n",
       "7  2092.835449   2076.0\n",
       "8  2566.543457   2584.0\n",
       "9  2070.119629   2098.0"
      ]
     },
     "execution_count": 78,
     "metadata": {},
     "output_type": "execute_result"
    }
   ],
   "source": [
    "df_xgb_sarcos_o.head(10)"
   ]
  },
  {
   "cell_type": "code",
   "execution_count": 81,
   "metadata": {},
   "outputs": [],
   "source": [
    "df_xgb_f = pd.concat([df_xgb_sarcos_o, df_xgb_int], axis = 1)\n",
    "df_lgb_f = pd.concat([df_lgb_sarcos_o, df_lgb_int], axis = 1)\n",
    "df_catboost_f = pd.concat([df_catboost_sarcos_o, df_catboost_int], axis = 1)"
   ]
  },
  {
   "cell_type": "code",
   "execution_count": 169,
   "metadata": {},
   "outputs": [],
   "source": [
    "df_xgb_samp = df_xgb_f.sample(frac = 0.3)\n",
    "df_lgb_samp = df_lgb_f.sample(frac = 0.3)\n",
    "df_catboost_samp = df_catboost_f.sample(frac = 0.3)"
   ]
  },
  {
   "cell_type": "code",
   "execution_count": 170,
   "metadata": {},
   "outputs": [
    {
     "data": {
      "image/png": "[encoded data removed]",
      "text/plain": [
       "<Figure size 432x288 with 1 Axes>"
      ]
     },
     "metadata": {
      "needs_background": "light"
     },
     "output_type": "display_data"
    }
   ],
   "source": [
    "from matplotlib import pyplot as plt\n",
    "plt.scatter(df_xgb_samp['actuals'], df_xgb_samp['predictions'])\n",
    "plt.fill_between(df_xgb_samp['actuals'], df_xgb_samp['lower_bound'], \n",
    "                 df_xgb_samp['upper_bound'], color = 'gray', alpha = 0.2)\n",
    "plt.show()"
   ]
  },
  {
   "cell_type": "code",
   "execution_count": 171,
   "metadata": {},
   "outputs": [
    {
     "data": {
      "image/png": "[encoded data removed]",
      "text/plain": [
       "<Figure size 432x288 with 1 Axes>"
      ]
     },
     "metadata": {
      "needs_background": "light"
     },
     "output_type": "display_data"
    }
   ],
   "source": [
    "plt.scatter(df_lgb_samp['actuals'], df_lgb_samp['predictions'])\n",
    "plt.fill_between(df_lgb_samp['actuals'], df_lgb_samp['lower_bound'], \n",
    "                 df_lgb_samp['upper_bound'], color = 'gray', alpha = 0.2)\n",
    "plt.show()"
   ]
  },
  {
   "cell_type": "code",
   "execution_count": 172,
   "metadata": {},
   "outputs": [
    {
     "data": {
      "image/png": "[encoded data removed]",
      "text/plain": [
       "<Figure size 432x288 with 1 Axes>"
      ]
     },
     "metadata": {
      "needs_background": "light"
     },
     "output_type": "display_data"
    }
   ],
   "source": [
    "plt.scatter(df_catboost_samp['actuals'], df_catboost_samp['predictions'])\n",
    "plt.fill_between(df_catboost_samp['actuals'], df_catboost_samp['lower_bound'], \n",
    "                 df_catboost_samp['upper_bound'], color = 'gray', alpha = 0.2)\n",
    "plt.show()"
   ]
  },
  {
   "cell_type": "code",
   "execution_count": null,
   "metadata": {},
   "outputs": [],
   "source": []
  }
 ],
 "metadata": {
  "kernelspec": {
   "display_name": "Python 3",
   "language": "python",
   "name": "python3"
  },
  "language_info": {
   "codemirror_mode": {
    "name": "ipython",
    "version": 3
   },
   "file_extension": ".py",
   "mimetype": "text/x-python",
   "name": "python",
   "nbconvert_exporter": "python",
   "pygments_lexer": "ipython3",
   "version": "3.6.5"
  }
 },
 "nbformat": 4,
 "nbformat_minor": 2
}
