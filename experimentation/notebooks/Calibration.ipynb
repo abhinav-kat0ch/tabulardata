{
 "cells": [
  {
   "cell_type": "markdown",
   "metadata": {},
   "source": [
    "## Obtaining Calibrated Probabilities"
   ]
  },
  {
   "cell_type": "markdown",
   "metadata": {},
   "source": [
    "Classifiers are commonly used in risk-critical applications but they pose a concern to practictioners. Classification accuracy is not a proper accuracy scoring role. It is a discontinuous metric applied to probability forecasts. However for applications where assessment of risk is important such discontinuities, where outcomes can change significantly because of a tiny jump in probability, can be misleading. Instead it is better to produce continuous probability scores and use them to take decisions. These scores can then be assessed using proper scoring rules such as the Brier Score and the logarithmic scoring rule. Brier Scores are easy to interpret and since they use a quadratic squared term can be decomposed into easy to understand components and hence are widely used especially in medicine. This brings us to the very important topic of calibration."
   ]
  },
  {
   "cell_type": "markdown",
   "metadata": {},
   "source": [
    "## Calibration\n",
    "\n",
    "- A classifier is called well-calibrated if $\\hat{P}(y = k | x) = P(y = k | x)$\n",
    "\n",
    "Given a \"calibration set\" we can compute something called a calibration score:\n",
    "\n",
    "- Divide [0,1] into M bins - these bins may be of equal width or equal quantiles according to $\\hat{P}(y=k|x)$\n",
    "\n",
    "- For each bin get the mean probability for each observation with probabilities predicted falling into that bin. Call it $\\hat{P}(B_{k})$\n",
    "\n",
    "- For each bin get the proportion of predictions that are correct. Call it $\\bar{P}(B_{k})$\n",
    "\n",
    "- The Calibration Error is $\\Sigma^{M}_{n=1}[\\hat{P}(B_{k}) - \\bar{P}(B_{k})]^2$ \n",
    "\n",
    "A well-calibrated classifier minimizes this error term. A visual of the above is called a \"Reliability Diagram\".\n",
    "\n",
    "We can also compute something called the \"Brier score\" which is defined as follows:\n",
    "\n",
    "- Brier Score= $\\frac{1}{M}\\Sigma_{b}P(B_{b})[\\hat{P}(B_{k)} -\\bar{P}(B_{k})]^2 + \\frac{1}{M}\\Sigma_{b}P(B_{k})[\\hat{P}(B_{k})(1-\\hat{P}(B_{k})]$\n",
    "\n",
    "The first term you'll recognize as the \"Calibration Error\". The second is something called a Refinement Score. So this scoring metric mesures calibration and sharpness of a classifier. An ideal classifier is well calibrated and highly confident in its predictions."
   ]
  },
  {
   "cell_type": "markdown",
   "metadata": {},
   "source": [
    "## Advantages of Calibration\n",
    "\n",
    "- Optimal Decision Making\n",
    "As mentioned above continuous scoring metrics are better at making decisions than discontinuous metrics to derive decision rules. If you have a loss function that depends on \n",
    "\n",
    "- Improved Accuracy\n",
    "\n",
    "- Helps Combining with other subsystems"
   ]
  },
  {
   "cell_type": "markdown",
   "metadata": {},
   "source": [
    "## Ways of achieving calibration\n",
    "\n",
    "- Binning\n",
    "Take your classifier's probabilities. Divide them into M bins. Take the average in each bin. Now you have a piecewise constant function. Use this instead. \n",
    "\n",
    "- Platt Scaling\n",
    "This method was originally invented to convert scores into probabilities over classes for algorithms such as the Perceptron and Support Vector Machines by noting that those scores could be fit well by a sigmoid function. We can do the same thing here by fitting the output probabilties with a sigmoid function and scaling the probabilities such that they form a smoother function. This has been shown to work well for max-margin classifiers like SVMs and Boosted Trees.\n",
    "\n",
    "- Isotonic Regression\n",
    "This method tries to find a function g that is monotonically increasing from 0 to 1 and minimizes the calibration error. The algorithm that solves this problem is called a Pool-Adjacent Violators Algorithm and fits a piecewise linear function. What this algorithm achieves is a more sophisticated version of the binning algorithm described but where the bins are learned from the data itself instead of being prespecified."
   ]
  },
  {
   "cell_type": "code",
   "execution_count": 2,
   "metadata": {},
   "outputs": [],
   "source": [
    "import os\n",
    "os.chdir(\"../../models/\")\n",
    "path = os.getcwd()"
   ]
  },
  {
   "cell_type": "code",
   "execution_count": 6,
   "metadata": {},
   "outputs": [],
   "source": [
    "import pandas as pd\n",
    "from matplotlib import pyplot as plt\n",
    "from sklearn.calibration import calibration_curve\n",
    "df_lgb = pd.read_csv('classification_lightgbm_amazon_insample.csv')\n",
    "df_xgb = pd.read_csv('classification_xgboost_amazon_insample.csv')"
   ]
  },
  {
   "cell_type": "code",
   "execution_count": 5,
   "metadata": {},
   "outputs": [],
   "source": [
    "df_xgb_bin = pd.read_csv('xgboost__binning_calibratedpreds.csv')\n",
    "df_lgb_bin = pd.read_csv('lightgbm__binning_calibratedpreds.csv')\n",
    "df_xgb_sig = pd.read_csv('xgboost__sigmoid_calibratedpreds.csv')\n",
    "df_lgb_sig = pd.read_csv('lightgbm__sigmoid_calibratedpreds.csv')\n",
    "#df_xgb_iso = pd.read_csv('xgboost__isotonic_calibratedpreds.csv')\n",
    "df_lgb_iso = pd.read_csv('lightgbm__isotonic_calibratedpreds.csv')"
   ]
  },
  {
   "cell_type": "code",
   "execution_count": 24,
   "metadata": {},
   "outputs": [],
   "source": [
    "fraction_of_positives, mean_predicted_value = \\\n",
    "calibration_curve(df_xgb['target'], df_xgb['prediction'], n_bins = 10)\n",
    "\n",
    "fraction_of_positives_2, mean_predicted_value_2 = \\\n",
    "calibration_curve(df_lgb['target'], df_lgb['prediction'], n_bins = 10)\n",
    "\n",
    "fraction_of_positives_3, mean_predicted_value_3 = \\\n",
    "calibration_curve(df_lgb_iso['actual'], df_lgb_iso['prediction'], n_bins = 10)\n",
    "\n",
    "fraction_of_positives_4, mean_predicted_value_4 = \\\n",
    "calibration_curve(df_lgb_sig['actual'], df_lgb_sig['prediction'], n_bins = 10)\n",
    "\n",
    "fraction_of_positives_5, mean_predicted_value_5 = \\\n",
    "calibration_curve(df_xgb_bin['actual'], df_xgb_bin['prediction'], n_bins = 10)\n",
    "\n",
    "fraction_of_positives_6, mean_predicted_value_6 = \\\n",
    "calibration_curve(df_xgb_sig['actual'], df_xgb_sig['prediction'], n_bins = 10)\n",
    "\n",
    "\n",
    "\n"
   ]
  },
  {
   "cell_type": "code",
   "execution_count": 11,
   "metadata": {},
   "outputs": [
    {
     "data": {
      "image/png": "[encoded data removed]",
      "text/plain": [
       "<Figure size 576x432 with 4 Axes>"
      ]
     },
     "metadata": {
      "needs_background": "light"
     },
     "output_type": "display_data"
    }
   ],
   "source": [
    "fig = plt.figure(figsize = (8,6))\n",
    "\n",
    "plt.subplot(2, 2, 1)\n",
    "plt.hist(df_lgb['prediction'], histtype = 'step', lw = 2)\n",
    "\n",
    "plt.subplot(2, 2, 2)\n",
    "plt.hist(df_lgb_bin['prediction'], histtype = 'step', lw = 2)\n",
    "\n",
    "plt.subplot(2, 2, 3)\n",
    "plt.hist(df_lgb_iso['prediction'], histtype = 'step', lw = 2)\n",
    "\n",
    "plt.subplot(2, 2, 4)\n",
    "plt.hist(df_lgb_sig['prediction'], histtype = 'step', lw = 2)\n",
    "plt.show()"
   ]
  },
  {
   "cell_type": "code",
   "execution_count": 28,
   "metadata": {},
   "outputs": [
    {
     "data": {
      "text/plain": [
       "[<matplotlib.lines.Line2D at 0x1a2176df98>]"
      ]
     },
     "execution_count": 28,
     "metadata": {},
     "output_type": "execute_result"
    },
    {
     "data": {
      "image/png": "[encoded data removed]",
      "text/plain": [
       "<Figure size 432x288 with 2 Axes>"
      ]
     },
     "metadata": {
      "needs_background": "light"
     },
     "output_type": "display_data"
    }
   ],
   "source": [
    "plt.subplot(2, 2, 1)\n",
    "calibration_curve(df_lgb_iso['actual'], df_lgb_iso['prediction'], n_bins = 10)\n",
    "plt.plot(mean_predicted_value_3, fraction_of_positives_3, \"s-\")\n",
    "\n",
    "plt.subplot(2, 2, 2)\n",
    "calibration_curve(df_lgb_sig['actual'], df_lgb_sig['prediction'], n_bins = 10)\n",
    "plt.plot(mean_predicted_value_4, fraction_of_positives_4, \"s-\")\n",
    "\n"
   ]
  },
  {
   "cell_type": "code",
   "execution_count": 23,
   "metadata": {},
   "outputs": [
    {
     "data": {
      "image/png": "[encoded data removed]",
      "text/plain": [
       "<Figure size 576x432 with 4 Axes>"
      ]
     },
     "metadata": {
      "needs_background": "light"
     },
     "output_type": "display_data"
    }
   ],
   "source": [
    "fig = plt.figure(figsize = (8,6))\n",
    "\n",
    "plt.subplot(2, 2, 1)\n",
    "plt.hist(df_xgb['prediction'], histtype = 'step', lw = 2)\n",
    "\n",
    "plt.subplot(2, 2, 2)\n",
    "plt.hist(df_xgb_bin['prediction'], histtype = 'step', lw = 2)\n",
    "\n",
    "plt.subplot(2, 2, 3)\n",
    "plt.hist(df_lgb_iso['prediction'], histtype = 'step', lw = 2)\n",
    "\n",
    "plt.subplot(2, 2, 4)\n",
    "plt.hist(df_xgb_sig['prediction'], histtype = 'step', lw = 2)\n",
    "\n",
    "plt.show()"
   ]
  },
  {
   "cell_type": "code",
   "execution_count": 27,
   "metadata": {},
   "outputs": [
    {
     "data": {
      "text/plain": [
       "[<matplotlib.lines.Line2D at 0x1a21699c18>]"
      ]
     },
     "execution_count": 27,
     "metadata": {},
     "output_type": "execute_result"
    },
    {
     "data": {
      "image/png": "[encoded data removed]",
      "text/plain": [
       "<Figure size 432x288 with 2 Axes>"
      ]
     },
     "metadata": {
      "needs_background": "light"
     },
     "output_type": "display_data"
    }
   ],
   "source": [
    "plt.subplot(2, 2, 2)\n",
    "calibration_curve(df_xgb_bin['actual'], df_xgb_bin['prediction'], n_bins = 10)\n",
    "plt.plot(mean_predicted_value_5, fraction_of_positives_5, \"s-\")\n",
    "\n",
    "plt.subplot(2, 2, 1)\n",
    "calibration_curve(df_xgb_sig['actual'], df_xgb_sig['prediction'], n_bins = 10)\n",
    "plt.plot(mean_predicted_value_6, fraction_of_positives_6, \"s-\")\n",
    "\n",
    "\n"
   ]
  },
  {
   "cell_type": "code",
   "execution_count": null,
   "metadata": {},
   "outputs": [],
   "source": []
  }
 ],
 "metadata": {
  "kernelspec": {
   "display_name": "Python 3",
   "language": "python",
   "name": "python3"
  },
  "language_info": {
   "codemirror_mode": {
    "name": "ipython",
    "version": 3
   },
   "file_extension": ".py",
   "mimetype": "text/x-python",
   "name": "python",
   "nbconvert_exporter": "python",
   "pygments_lexer": "ipython3",
   "version": "3.6.5"
  }
 },
 "nbformat": 4,
 "nbformat_minor": 2
}
